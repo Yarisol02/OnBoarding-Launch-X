{
 "cells": [
  {
   "cell_type": "markdown",
   "metadata": {},
   "source": [
    "# Declaraciones if, else, y elif."
   ]
  },
  {
   "cell_type": "code",
   "execution_count": 5,
   "metadata": {},
   "outputs": [
    {
     "name": "stdout",
     "output_type": "stream",
     "text": [
      "¡Advertencia, asteroide se acerca!\n"
     ]
    }
   ],
   "source": [
    "# a=velocidad de asteroide \n",
    "a= 49\n",
    "b= 25\n",
    "if a > b:\n",
    "    print (\"¡Advertencia, asteroide se acerca!\")\n",
    "else:\n",
    "    print (\"El asteroide no representa un peligro\")"
   ]
  },
  {
   "cell_type": "code",
   "execution_count": 6,
   "metadata": {},
   "outputs": [
    {
     "name": "stdout",
     "output_type": "stream",
     "text": [
      "Se acerca asteroide, pero no podrá verse en la tierra\n"
     ]
    }
   ],
   "source": [
    "# a= velocidad de asteroide.\n",
    "a= 19\n",
    "b= 20\n",
    "if a > b: \n",
    "    print (\"Busquen una luz en el cielo, es un asteroide\")\n",
    "elif a < b:\n",
    "    print (\"Se acerca asteroide, pero no podrá verse en la tierra\")\n",
    "else:\n",
    "    print(\"Busquen una luz en el cielo, es un asteroide\")"
   ]
  },
  {
   "cell_type": "markdown",
   "metadata": {},
   "source": [
    "# Uso de operadores and y or."
   ]
  },
  {
   "cell_type": "code",
   "execution_count": 8,
   "metadata": {},
   "outputs": [
    {
     "name": "stdout",
     "output_type": "stream",
     "text": [
      "¡Atención! probablemente, si miras al cielo verás un rayo de luz.\n"
     ]
    }
   ],
   "source": [
    "# a=velocidad de asteroide (Km/s).\n",
    "# b= tamaño del asteroide (metros).\n",
    "a=20\n",
    "b=30\n",
    "\n",
    "if a > 25 and b > 25:\n",
    "    print (\"!Alerta! un asteroide se aacerca.\")\n",
    "elif a >= 20:\n",
    "    print (\"¡Atención! probablemente, si miras al cielo verás un rayo de luz.\")\n",
    "else:\n",
    "    print (\"Sin novedad\")"
   ]
  }
 ],
 "metadata": {
  "interpreter": {
   "hash": "f60e096d15d2798794b167aaf7dd782f7bfa9280e1d4fcce9b0f29eba4563593"
  },
  "kernelspec": {
   "display_name": "Python 3.10.2 64-bit (windows store)",
   "language": "python",
   "name": "python3"
  },
  "language_info": {
   "codemirror_mode": {
    "name": "ipython",
    "version": 3
   },
   "file_extension": ".py",
   "mimetype": "text/x-python",
   "name": "python",
   "nbconvert_exporter": "python",
   "pygments_lexer": "ipython3",
   "version": "3.10.2"
  },
  "orig_nbformat": 4
 },
 "nbformat": 4,
 "nbformat_minor": 2
}
