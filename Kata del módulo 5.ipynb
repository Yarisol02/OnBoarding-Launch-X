{
 "cells": [
  {
   "cell_type": "markdown",
   "metadata": {},
   "source": [
    "## Ejercicio1 - Utilizar operadores aritméticos."
   ]
  },
  {
   "cell_type": "code",
   "execution_count": null,
   "metadata": {},
   "outputs": [],
   "source": [
    "planeta_1= 149597870\n",
    "planeta_2= 778547200"
   ]
  },
  {
   "cell_type": "code",
   "execution_count": 3,
   "metadata": {},
   "outputs": [
    {
     "name": "stdout",
     "output_type": "stream",
     "text": [
      "628949330\n",
      "390577533.93\n"
     ]
    }
   ],
   "source": [
    "# Calcular la distancia entre planetas\n",
    "planeta_1= 149597870\n",
    "planeta_2= 778547200\n",
    "\n",
    "distancia_planetas= planeta_2-planeta_1\n",
    "print(distancia_planetas)\n",
    "\n",
    "distancia_millas= distancia_planetas*0.621\n",
    "print(distancia_millas)\n"
   ]
  },
  {
   "cell_type": "markdown",
   "metadata": {},
   "source": [
    "## Ejercicio 2: convierte cadenas en números y usa valores absolutos."
   ]
  },
  {
   "cell_type": "code",
   "execution_count": null,
   "metadata": {},
   "outputs": [],
   "source": [
    "# Almacenar las entradas del usuario.\n",
    "\n",
    "planeta_1= input('¿Cuál es la distancia del sol del primer plneta?')\n",
    "planeta_2= input('¿Cuál es la distancia del sol del segundo plneta?')"
   ]
  },
  {
   "cell_type": "code",
   "execution_count": null,
   "metadata": {},
   "outputs": [],
   "source": [
    "# Convierte las cadenas de ambos planetas a números enteros.\n",
    "\n",
    "planeta_1=int(planeta_1)\n",
    "planeta_2=int(planeta_2)"
   ]
  },
  {
   "cell_type": "code",
   "execution_count": 4,
   "metadata": {},
   "outputs": [
    {
     "name": "stdout",
     "output_type": "stream",
     "text": [
      "390577533.93\n"
     ]
    }
   ],
   "source": [
    "# Realizar el cálculo y determinar el valor absoluto.\n",
    "planeta_1= 149597870\n",
    "planeta_2= 778547200\n",
    "\n",
    "distancia_planetas= abs(planeta_2-planeta_1)\n",
    "print(distancia_planetas*0.621)"
   ]
  },
  {
   "cell_type": "code",
   "execution_count": 5,
   "metadata": {},
   "outputs": [
    {
     "name": "stdout",
     "output_type": "stream",
     "text": [
      "2755501200.0\n"
     ]
    }
   ],
   "source": [
    "# Prueba.\n",
    "\n",
    "planeta_1= 57900000\n",
    "planeta_2= 4495100000\n",
    "\n",
    "distancia_planetas= abs(planeta_2-planeta_1)\n",
    "print(distancia_planetas*0.621)"
   ]
  }
 ],
 "metadata": {
  "interpreter": {
   "hash": "f60e096d15d2798794b167aaf7dd782f7bfa9280e1d4fcce9b0f29eba4563593"
  },
  "kernelspec": {
   "display_name": "Python 3.10.2 64-bit (windows store)",
   "language": "python",
   "name": "python3"
  },
  "language_info": {
   "codemirror_mode": {
    "name": "ipython",
    "version": 3
   },
   "file_extension": ".py",
   "mimetype": "text/x-python",
   "name": "python",
   "nbconvert_exporter": "python",
   "pygments_lexer": "ipython3",
   "version": "3.10.2"
  },
  "orig_nbformat": 4
 },
 "nbformat": 4,
 "nbformat_minor": 2
}
