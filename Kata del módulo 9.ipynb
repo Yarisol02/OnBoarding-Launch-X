{
 "cells": [
  {
   "cell_type": "markdown",
   "metadata": {},
   "source": [
    "## Ejercicio: Uso de funciones en Python"
   ]
  },
  {
   "cell_type": "code",
   "execution_count": 18,
   "metadata": {},
   "outputs": [],
   "source": [
    "# Función para leer 3 tanques de combustible y muestre el promedio\n",
    "\n",
    "def informe_tanques (taque_1, tanque_2, tanque_3):\n",
    "    promedio= (taque_1+tanque_2+tanque_3)/3\n",
    "    print(promedio)"
   ]
  },
  {
   "cell_type": "code",
   "execution_count": null,
   "metadata": {},
   "outputs": [],
   "source": [
    "# Llamamos a la función que genera el reporte print(funcion(tanque1, tanque2, tanque3))\n",
    "\n",
    "print (informe_tanques(80, 60, 70))"
   ]
  },
  {
   "cell_type": "code",
   "execution_count": 20,
   "metadata": {},
   "outputs": [
    {
     "data": {
      "text/plain": [
       "81.66666666666667"
      ]
     },
     "execution_count": 20,
     "metadata": {},
     "output_type": "execute_result"
    }
   ],
   "source": [
    "# Función promedio \n",
    "\n",
    "def promedio(values):\n",
    "    total= sum(values)\n",
    "    numero_elementos=len(values)\n",
    "    return total/numero_elementos\n",
    "\n",
    "\n",
    "promedio([75,80,90])\n"
   ]
  },
  {
   "cell_type": "code",
   "execution_count": 23,
   "metadata": {},
   "outputs": [
    {
     "name": "stdout",
     "output_type": "stream",
     "text": [
      "Fuel Report:\n",
      "    Total promedio: 70.0%\n",
      "    tanque_1: 80%\n",
      "    tanque_2: 60%\n",
      "    tanque_3: 70% \n",
      "    \n"
     ]
    }
   ],
   "source": [
    "# Actualiza la función\n",
    "\n",
    "def informe_tanques (tanque_1, tanque_2, tanque_3):\n",
    "    return f\"\"\"Fuel Report:\n",
    "    Total promedio: {promedio([tanque_1,tanque_2, tanque_3])}%\n",
    "    tanque_1: {tanque_1}%\n",
    "    tanque_2: {tanque_2}%\n",
    "    tanque_3: {tanque_3}% \n",
    "    \"\"\"\n",
    "    \n",
    "print (informe_tanques(80, 60, 70))"
   ]
  },
  {
   "cell_type": "markdown",
   "metadata": {},
   "source": [
    "## Ejercicio 2: Trabajo con argumentos de palabra clave"
   ]
  },
  {
   "cell_type": "code",
   "execution_count": 25,
   "metadata": {},
   "outputs": [
    {
     "name": "stdout",
     "output_type": "stream",
     "text": [
      "\n",
      "    misión a Marte.\n",
      "    tiempo_misión: 60 minutos.\n",
      "    total_tanque: 900000 litros.\n",
      "    \n"
     ]
    }
   ],
   "source": [
    "# Función con un informe preciso de la misión. Considera hora de prelanzamiento, tiempo de vuelo, destino, tanque externo y tanque interno\n",
    "\n",
    "def mission_report(hora_prelanzamiento, tiempo_vuelo, destino, tanque_externo, tanque_interno):\n",
    "    return f\"\"\"\n",
    "    misión a {destino}.\n",
    "    tiempo_misión: {hora_prelanzamiento + tiempo_vuelo} minutos.\n",
    "    total_tanque: {tanque_externo + tanque_interno} litros.\n",
    "    \"\"\"\n",
    "\n",
    "print(mission_report(20, 40, \"Marte\", 400000, 500000))"
   ]
  }
 ],
 "metadata": {
  "interpreter": {
   "hash": "f60e096d15d2798794b167aaf7dd782f7bfa9280e1d4fcce9b0f29eba4563593"
  },
  "kernelspec": {
   "display_name": "Python 3.10.2 64-bit (windows store)",
   "language": "python",
   "name": "python3"
  },
  "language_info": {
   "codemirror_mode": {
    "name": "ipython",
    "version": 3
   },
   "file_extension": ".py",
   "mimetype": "text/x-python",
   "name": "python",
   "nbconvert_exporter": "python",
   "pygments_lexer": "ipython3",
   "version": "3.10.2"
  },
  "orig_nbformat": 4
 },
 "nbformat": 4,
 "nbformat_minor": 2
}
